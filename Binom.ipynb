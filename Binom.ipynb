{
 "cells": [
  {
   "cell_type": "code",
   "execution_count": 1,
   "id": "eb22e913",
   "metadata": {},
   "outputs": [],
   "source": [
    "from scipy import stats\n"
   ]
  },
  {
   "cell_type": "code",
   "execution_count": 8,
   "id": "820d8d54",
   "metadata": {},
   "outputs": [],
   "source": [
    "p = 0.5\n",
    "n = 7"
   ]
  },
  {
   "cell_type": "code",
   "execution_count": 10,
   "id": "194336d1",
   "metadata": {},
   "outputs": [
    {
     "name": "stdout",
     "output_type": "stream",
     "text": [
      "0.2734374999999999\n"
     ]
    }
   ],
   "source": [
    "dağılım  = stats.binom(n,p)\n",
    "yazı = dağılım.pmf(k = 3)\n",
    "print(yazı)"
   ]
  },
  {
   "cell_type": "code",
   "execution_count": 13,
   "id": "2040039f",
   "metadata": {},
   "outputs": [],
   "source": [
    "p = 0.8\n",
    "n = 5"
   ]
  },
  {
   "cell_type": "code",
   "execution_count": 15,
   "id": "41c66561",
   "metadata": {},
   "outputs": [
    {
     "name": "stdout",
     "output_type": "stream",
     "text": [
      "0.20480000000000007\n"
     ]
    }
   ],
   "source": [
    "dağılım  = stats.binom(n,p)\n",
    "gol = dağılım.pmf(k = 3)\n",
    "print(gol)"
   ]
  },
  {
   "cell_type": "code",
   "execution_count": 17,
   "id": "6aec8e8a",
   "metadata": {},
   "outputs": [],
   "source": [
    "p = 0.01\n",
    "n = 10"
   ]
  },
  {
   "cell_type": "code",
   "execution_count": 19,
   "id": "26be7615",
   "metadata": {},
   "outputs": [
    {
     "name": "stdout",
     "output_type": "stream",
     "text": [
      "0.9998861508820942\n",
      "0.9998861508820942\n"
     ]
    }
   ],
   "source": [
    "dağılım  = stats.binom(n,p)\n",
    "ürün0 = dağılım.pmf(k = 0)\n",
    "ürün1 = dağılım.pmf(k = 1)\n",
    "ürün2 = dağılım.pmf(k = 2)\n",
    "sum = dağılım.cdf(x = 2)\n",
    "print(ürün0 + ürün1 + ürün2)\n",
    "print(sum)"
   ]
  }
 ],
 "metadata": {
  "kernelspec": {
   "display_name": ".venv",
   "language": "python",
   "name": "python3"
  },
  "language_info": {
   "codemirror_mode": {
    "name": "ipython",
    "version": 3
   },
   "file_extension": ".py",
   "mimetype": "text/x-python",
   "name": "python",
   "nbconvert_exporter": "python",
   "pygments_lexer": "ipython3",
   "version": "3.9.6"
  }
 },
 "nbformat": 4,
 "nbformat_minor": 5
}
