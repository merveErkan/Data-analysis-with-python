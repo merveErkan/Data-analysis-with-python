{
 "cells": [
  {
   "cell_type": "code",
   "execution_count": null,
   "id": "cb00262d",
   "metadata": {},
   "outputs": [],
   "source": [
    "import numpy as np\n",
    "import matplotlib.pyplot as plt\n",
    "import pandas as pd"
   ]
  },
  {
   "cell_type": "code",
   "execution_count": null,
   "id": "f048b530",
   "metadata": {},
   "outputs": [],
   "source": [
    "data = pd.read_csv('/Users/merveerkan/Desktop/SuperstoreProject/train.csv')"
   ]
  },
  {
   "cell_type": "code",
   "execution_count": null,
   "id": "62881df4",
   "metadata": {},
   "outputs": [],
   "source": [
    "data"
   ]
  },
  {
   "cell_type": "code",
   "execution_count": null,
   "id": "a9cd00c8",
   "metadata": {},
   "outputs": [],
   "source": [
    "data.shape"
   ]
  },
  {
   "cell_type": "code",
   "execution_count": null,
   "id": "e6f5edef",
   "metadata": {},
   "outputs": [],
   "source": [
    "data.describe()"
   ]
  },
  {
   "cell_type": "code",
   "execution_count": null,
   "id": "a479aa33",
   "metadata": {},
   "outputs": [],
   "source": [
    "data.columns"
   ]
  },
  {
   "cell_type": "code",
   "execution_count": null,
   "id": "21434635",
   "metadata": {},
   "outputs": [],
   "source": [
    "df= data.drop([\"Row ID\",\"Order ID\",\"Customer ID\",\"Product ID\"],axis=1)"
   ]
  },
  {
   "cell_type": "code",
   "execution_count": null,
   "id": "cdd1b181",
   "metadata": {},
   "outputs": [],
   "source": [
    "df.head()"
   ]
  },
  {
   "cell_type": "code",
   "execution_count": null,
   "id": "81b86230",
   "metadata": {},
   "outputs": [],
   "source": [
    "data.isnull().sum()"
   ]
  },
  {
   "cell_type": "code",
   "execution_count": null,
   "id": "86212280",
   "metadata": {},
   "outputs": [],
   "source": [
    "df[df[\"Postal Code\"].isnull()]"
   ]
  },
  {
   "cell_type": "code",
   "execution_count": null,
   "id": "3ff53bec",
   "metadata": {},
   "outputs": [],
   "source": [
    "df[\"Postal Code\"] = df[\"Postal Code\"].fillna(5402)"
   ]
  },
  {
   "cell_type": "code",
   "execution_count": null,
   "id": "b30d32fb",
   "metadata": {},
   "outputs": [],
   "source": [
    "df"
   ]
  },
  {
   "cell_type": "code",
   "execution_count": null,
   "id": "a2145218",
   "metadata": {},
   "outputs": [],
   "source": [
    "df.isnull().sum()"
   ]
  },
  {
   "cell_type": "code",
   "execution_count": null,
   "id": "1b9d6a60",
   "metadata": {},
   "outputs": [],
   "source": [
    "df[df[\"City\"] =='Burlington']"
   ]
  },
  {
   "cell_type": "code",
   "execution_count": null,
   "id": "0f8adbbe",
   "metadata": {},
   "outputs": [],
   "source": [
    "# ay stunu oluşturalım\n",
    "df[\"Month\"] = df[\"Order Date\"].str[3:5]\n",
    "df"
   ]
  },
  {
   "cell_type": "code",
   "execution_count": null,
   "id": "cc536ba5",
   "metadata": {},
   "outputs": [],
   "source": [
    "df[\"Month\"] = df[\"Month\"].astype(int)\n",
    "df"
   ]
  },
  {
   "cell_type": "code",
   "execution_count": null,
   "id": "c9d2d774",
   "metadata": {},
   "outputs": [],
   "source": [
    "# ayları isimlere dönüştürme\n",
    "d = {1: \"Ocak\", 2: \"Şubat\", 3: \"Mart\", 4: \"Nisan\", 5: \"Mayıs\", 6: \"Haziran\",\n",
    "     7: \"Temmuz\", 8: \"Ağustos\", 9: \"Eylül\", 10: \"Ekim\", 11: \"Kasım\", 12: \"Aralık\"}\n"
   ]
  },
  {
   "cell_type": "code",
   "execution_count": null,
   "id": "0eadcd97",
   "metadata": {},
   "outputs": [],
   "source": [
    "d[4]"
   ]
  },
  {
   "cell_type": "code",
   "execution_count": null,
   "id": "284a9f7e",
   "metadata": {},
   "outputs": [],
   "source": [
    "df[\"Month\"] = [d[i] for i in df[\"Month\"]]\n",
    "df"
   ]
  },
  {
   "cell_type": "code",
   "execution_count": null,
   "id": "51aada8d",
   "metadata": {},
   "outputs": [],
   "source": [
    "#yıl bilgisini çekelim\n",
    "df[\"Order Date\"] = pd.to_datetime(df[\"Order Date\"], dayfirst=True)\n",
    "df"
   ]
  },
  {
   "cell_type": "code",
   "execution_count": null,
   "id": "2f4e345a",
   "metadata": {},
   "outputs": [],
   "source": [
    "#gönderilme tarihini çekelim\n",
    "df[\"Ship Date\"] = pd.to_datetime(df[\"Ship Date\"], dayfirst=True)\n",
    "df"
   ]
  },
  {
   "cell_type": "code",
   "execution_count": null,
   "id": "8534a6bd",
   "metadata": {},
   "outputs": [],
   "source": [
    "# yılı çekelim\n",
    "df[\"Year\"] = df[\"Order Date\"].dt.year\n",
    "df"
   ]
  },
  {
   "cell_type": "code",
   "execution_count": null,
   "id": "72ad0ecf",
   "metadata": {},
   "outputs": [],
   "source": [
    "df[\"Year\"].value_counts()"
   ]
  },
  {
   "cell_type": "code",
   "execution_count": null,
   "id": "bae96ced",
   "metadata": {},
   "outputs": [],
   "source": [
    "df[\"Month\"].value_counts()"
   ]
  },
  {
   "cell_type": "code",
   "execution_count": null,
   "id": "a3de0dac",
   "metadata": {},
   "outputs": [],
   "source": [
    "#hangi ayda satış fazla\n",
    "months_df = df.groupby(\"Month\")[[\"Sales\"]].sum()\n",
    "months_df"
   ]
  },
  {
   "cell_type": "code",
   "execution_count": null,
   "id": "ec1105d4",
   "metadata": {},
   "outputs": [],
   "source": [
    "months_df.reset_index(inplace=True)\n",
    "months_df"
   ]
  },
  {
   "cell_type": "code",
   "execution_count": null,
   "id": "3c260e62",
   "metadata": {},
   "outputs": [],
   "source": [
    "plt.bar(months_df[\"Month\"], months_df[\"Sales\"])\n",
    "plt.xlabel(\"Aylar\")\n",
    "plt.ylabel(\"Satış Miktarı\")"
   ]
  },
  {
   "cell_type": "code",
   "execution_count": null,
   "id": "a1e24877",
   "metadata": {},
   "outputs": [],
   "source": [
    "plt.bar(months_df[\"Month\"], months_df[\"Sales\"])\n",
    "plt.xlabel(\"Aylar\")\n",
    "plt.ylabel(\"Satış Miktarı\")\n",
    "plt.xticks(fontsize = 14, rotation = 90)\n",
    "plt.yticks(fontsize = 14)\n",
    "plt.show()"
   ]
  },
  {
   "cell_type": "code",
   "execution_count": null,
   "id": "091cd601",
   "metadata": {},
   "outputs": [],
   "source": [
    "#hangi yılda satış fazla\n",
    "year_df = df.groupby(\"Year\")[[\"Sales\"]].sum()\n",
    "year_df"
   ]
  },
  {
   "cell_type": "code",
   "execution_count": null,
   "id": "d33efde5",
   "metadata": {},
   "outputs": [],
   "source": [
    "year_df.reset_index(inplace=True)\n",
    "year_df"
   ]
  },
  {
   "cell_type": "code",
   "execution_count": null,
   "id": "2d9f21ea",
   "metadata": {},
   "outputs": [],
   "source": [
    "plt.bar(year_df[\"Year\"], year_df[\"Sales\"])\n",
    "plt.xlabel(\"Yıllar\")\n",
    "plt.ylabel(\"Satış Miktarı\")"
   ]
  },
  {
   "cell_type": "code",
   "execution_count": null,
   "id": "94df0dd5",
   "metadata": {},
   "outputs": [],
   "source": [
    "# en çok hangi müşteri para harcamış\n",
    "customer = df.groupby(\"Customer Name\")[[\"Sales\"]].sum()\n",
    "customer"
   ]
  },
  {
   "cell_type": "code",
   "execution_count": null,
   "id": "b2790a70",
   "metadata": {},
   "outputs": [],
   "source": [
    "customer.reset_index(inplace=True)\n",
    "customer"
   ]
  },
  {
   "cell_type": "code",
   "execution_count": null,
   "id": "02ba67cb",
   "metadata": {},
   "outputs": [],
   "source": [
    "customer = customer.head(20)"
   ]
  },
  {
   "cell_type": "code",
   "execution_count": null,
   "id": "696b0743",
   "metadata": {},
   "outputs": [],
   "source": [
    "plt.bar(customer[\"Customer Name\"], customer[\"Sales\"])\n",
    "plt.xlabel(\"Customer Name\")\n",
    "plt.ylabel(\"Satış Miktarı\")\n",
    "plt.xticks(fontsize = 14, rotation = 90)\n",
    "plt.yticks(fontsize = 14)\n",
    "plt.show()"
   ]
  },
  {
   "cell_type": "code",
   "execution_count": null,
   "id": "8581cabb",
   "metadata": {},
   "outputs": [],
   "source": [
    "# Katagorileyelim\n",
    "category = df.groupby(\"Category\")[[\"Sales\"]].sum()\n",
    "category"
   ]
  },
  {
   "cell_type": "code",
   "execution_count": null,
   "id": "96d29a39",
   "metadata": {},
   "outputs": [],
   "source": [
    "category.reset_index(inplace=True)\n",
    "category"
   ]
  },
  {
   "cell_type": "code",
   "execution_count": null,
   "id": "9fc7bf3f",
   "metadata": {},
   "outputs": [],
   "source": [
    "plt.bar(category[\"Category\"], category[\"Sales\"])\n",
    "plt.xlabel(\"Category\")\n",
    "plt.ylabel(\"Satış Miktarı\")\n",
    "plt.xticks(fontsize = 14, rotation = 90)\n",
    "plt.yticks(fontsize = 14)\n",
    "plt.show()"
   ]
  },
  {
   "cell_type": "code",
   "execution_count": null,
   "id": "c1810705",
   "metadata": {},
   "outputs": [],
   "source": [
    "plt.pie(category[\"Sales\"], labels=category[\"Category\"])\n",
    "plt.show()"
   ]
  },
  {
   "cell_type": "code",
   "execution_count": null,
   "id": "9335ef78",
   "metadata": {},
   "outputs": [],
   "source": [
    "plt.pie(category[\"Sales\"], labels=category[\"Category\"],autopct='%0.2f%%')\n",
    "plt.show()"
   ]
  },
  {
   "cell_type": "code",
   "execution_count": null,
   "id": "b662c3f7",
   "metadata": {},
   "outputs": [],
   "source": [
    "plt.pie(category[\"Sales\"], labels=category[\"Category\"],autopct='%0.2f%%',explode=[0.1, 0.0, 0.0])\n",
    "plt.show()"
   ]
  },
  {
   "cell_type": "code",
   "execution_count": null,
   "id": "95cc218e",
   "metadata": {},
   "outputs": [],
   "source": []
  }
 ],
 "metadata": {
  "kernelspec": {
   "display_name": ".venv",
   "language": "python",
   "name": "python3"
  },
  "language_info": {
   "codemirror_mode": {
    "name": "ipython",
    "version": 3
   },
   "file_extension": ".py",
   "mimetype": "text/x-python",
   "name": "python",
   "nbconvert_exporter": "python",
   "pygments_lexer": "ipython3",
   "version": "3.13.1"
  }
 },
 "nbformat": 4,
 "nbformat_minor": 5
}
