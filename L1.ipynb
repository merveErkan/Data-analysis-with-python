{
 "cells": [
  {
   "cell_type": "code",
   "execution_count": null,
   "id": "cb811395",
   "metadata": {},
   "outputs": [],
   "source": [
    "import pandas as pd\n",
    "import matplotlib.pyplot as plt"
   ]
  },
  {
   "cell_type": "code",
   "execution_count": null,
   "id": "fff5d714",
   "metadata": {},
   "outputs": [],
   "source": [
    "data = pd.read_excel(\"CinsiyetYasAdet.xlsx\")\n",
    "print(data)"
   ]
  },
  {
   "cell_type": "code",
   "execution_count": null,
   "id": "cc03f63f",
   "metadata": {},
   "outputs": [],
   "source": [
    "print(data.describe())"
   ]
  },
  {
   "cell_type": "code",
   "execution_count": null,
   "id": "caf29f7d",
   "metadata": {},
   "outputs": [],
   "source": [
    "print(data[\"cinsiyet\"].describe())"
   ]
  },
  {
   "cell_type": "code",
   "execution_count": null,
   "id": "403ed057",
   "metadata": {},
   "outputs": [],
   "source": [
    "print(data[\"cinsiyet\"].value_counts())"
   ]
  },
  {
   "cell_type": "code",
   "execution_count": null,
   "id": "a138740b",
   "metadata": {},
   "outputs": [],
   "source": [
    "print(data[\"cinsiyet\"].value_counts(normalize=True))"
   ]
  },
  {
   "cell_type": "code",
   "execution_count": null,
   "id": "1b922884",
   "metadata": {},
   "outputs": [],
   "source": [
    "print(data[\"cinsiyet\"].value_counts(normalize=True)*100)"
   ]
  },
  {
   "cell_type": "code",
   "execution_count": null,
   "id": "02dc1c95",
   "metadata": {},
   "outputs": [],
   "source": [
    "print(data[\"yaş\"].mean())"
   ]
  },
  {
   "cell_type": "code",
   "execution_count": null,
   "id": "c5e8083b",
   "metadata": {},
   "outputs": [],
   "source": [
    "print(data[\"yaş\"].median())"
   ]
  },
  {
   "cell_type": "code",
   "execution_count": null,
   "id": "dc1f6ede",
   "metadata": {},
   "outputs": [],
   "source": [
    "plt.hist(data[\"yaş\"], bins=50)\n",
    "plt.show()"
   ]
  },
  {
   "cell_type": "code",
   "execution_count": null,
   "id": "68989d2d",
   "metadata": {},
   "outputs": [],
   "source": [
    "print(data[\"yaş\"].std())"
   ]
  },
  {
   "cell_type": "code",
   "execution_count": null,
   "id": "e6114a90",
   "metadata": {},
   "outputs": [],
   "source": [
    "print(data[\"yaş\"].skew())"
   ]
  },
  {
   "cell_type": "code",
   "execution_count": null,
   "id": "eaf8149c",
   "metadata": {},
   "outputs": [],
   "source": [
    "print(data[\"yaş\"].kurtosis())"
   ]
  },
  {
   "cell_type": "code",
   "execution_count": null,
   "id": "acd4bd6d",
   "metadata": {},
   "outputs": [],
   "source": [
    "print(data.groupby(\"cinsiyet\").mean())"
   ]
  },
  {
   "cell_type": "code",
   "execution_count": null,
   "id": "112207b3",
   "metadata": {},
   "outputs": [],
   "source": [
    "print(data.groupby(\"cinsiyet\")[\"yaş\"].mean())"
   ]
  },
  {
   "cell_type": "code",
   "execution_count": null,
   "id": "1f551f6e",
   "metadata": {},
   "outputs": [],
   "source": [
    "print(data.groupby(\"cinsiyet\")[\"yaş\"].std())"
   ]
  }
 ],
 "metadata": {
  "kernelspec": {
   "display_name": ".venv",
   "language": "python",
   "name": "python3"
  },
  "language_info": {
   "codemirror_mode": {
    "name": "ipython",
    "version": 3
   },
   "file_extension": ".py",
   "mimetype": "text/x-python",
   "name": "python",
   "nbconvert_exporter": "python",
   "pygments_lexer": "ipython3",
   "version": "3.9.6"
  }
 },
 "nbformat": 4,
 "nbformat_minor": 5
}
