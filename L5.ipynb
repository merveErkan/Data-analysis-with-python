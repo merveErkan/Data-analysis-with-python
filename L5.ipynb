{
 "cells": [
  {
   "cell_type": "code",
   "execution_count": null,
   "id": "76509aaa",
   "metadata": {},
   "outputs": [],
   "source": [
    "import numpy as np\n",
    "import matplotlib.pyplot as plt\n",
    "import seaborn as sns\n",
    "from scipy import stats"
   ]
  },
  {
   "cell_type": "code",
   "execution_count": null,
   "id": "6c1d6dde",
   "metadata": {},
   "outputs": [],
   "source": [
    "np.random.seed(0)\n",
    "data1t = stats.t.rvs(loc = 0, df = 1, size = 15)\n",
    "data2t = stats.t.rvs(loc = 0, df = 2, size = 15)\n",
    "data3t = stats.t.rvs(loc = 0, df = 5, size = 15)\n",
    "data4t = stats.t.rvs(loc = 0, df = 20, size = 15)"
   ]
  },
  {
   "cell_type": "markdown",
   "id": "f053f8af",
   "metadata": {},
   "source": [
    "df = serbestlik derecesi büyüdükçe kuyruk kısalır"
   ]
  },
  {
   "cell_type": "code",
   "execution_count": null,
   "id": "e94e6010",
   "metadata": {},
   "outputs": [],
   "source": [
    "plt.xlim ( -5,5)\n",
    "sns.displot(data1t, kde = True)\n",
    "plt.show()"
   ]
  },
  {
   "cell_type": "markdown",
   "id": "66a7acab",
   "metadata": {},
   "source": [
    "displot yerine distplot yazarsak kde yazamıza gerek yok kendi üretiyor eğriyi"
   ]
  },
  {
   "cell_type": "markdown",
   "id": "16740f81",
   "metadata": {},
   "source": [
    "hist = false ile histogramı ortadan kaldırıyoruz sadece eğriyi görüyoruz"
   ]
  },
  {
   "cell_type": "code",
   "execution_count": null,
   "id": "78a98c34",
   "metadata": {},
   "outputs": [],
   "source": [
    "plt.xlim ( -5,5)\n",
    "sns.distplot(data1t, color = \"red\",hist = False)\n",
    "sns.distplot(data2t, color = \"blue\",hist = False)\n",
    "sns.distplot(data3t, color = \"green\",hist = False)\n",
    "sns.distplot(data4t, color = \"yellow\",hist = False)\n",
    "plt.show()"
   ]
  },
  {
   "cell_type": "code",
   "execution_count": null,
   "id": "1379ef5e",
   "metadata": {},
   "outputs": [],
   "source": []
  }
 ],
 "metadata": {
  "kernelspec": {
   "display_name": ".venv",
   "language": "python",
   "name": "python3"
  },
  "language_info": {
   "codemirror_mode": {
    "name": "ipython",
    "version": 3
   },
   "file_extension": ".py",
   "mimetype": "text/x-python",
   "name": "python",
   "nbconvert_exporter": "python",
   "pygments_lexer": "ipython3",
   "version": "3.9.6"
  }
 },
 "nbformat": 4,
 "nbformat_minor": 5
}
