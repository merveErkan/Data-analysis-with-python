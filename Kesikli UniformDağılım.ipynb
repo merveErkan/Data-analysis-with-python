{
 "cells": [
  {
   "cell_type": "code",
   "execution_count": 4,
   "id": "a3d34df8",
   "metadata": {},
   "outputs": [],
   "source": [
    "from scipy import stats"
   ]
  },
  {
   "cell_type": "code",
   "execution_count": 5,
   "id": "5c96d9b6",
   "metadata": {},
   "outputs": [
    {
     "name": "stdout",
     "output_type": "stream",
     "text": [
      "0.16666666666666666\n"
     ]
    }
   ],
   "source": [
    "n = 6\n",
    "dagılım = stats.randint(1,n + 1)\n",
    "olasılık = dagılım.pmf(k = 5)\n",
    "print(olasılık)"
   ]
  },
  {
   "cell_type": "code",
   "execution_count": 6,
   "id": "cca3a4b5",
   "metadata": {},
   "outputs": [
    {
     "name": "stdout",
     "output_type": "stream",
     "text": [
      "3.5\n"
     ]
    }
   ],
   "source": [
    "n = 6\n",
    "dagılım = stats.randint(1,n + 1)\n",
    "olasılık = dagılım.expect()\n",
    "print(olasılık)"
   ]
  },
  {
   "cell_type": "code",
   "execution_count": 7,
   "id": "5efa157d",
   "metadata": {},
   "outputs": [
    {
     "name": "stdout",
     "output_type": "stream",
     "text": [
      "2.9166666666666665\n"
     ]
    }
   ],
   "source": [
    "n = 6\n",
    "dagılım = stats.randint(1,n + 1)\n",
    "olasılık = dagılım.var()\n",
    "print(olasılık)"
   ]
  }
 ],
 "metadata": {
  "kernelspec": {
   "display_name": ".venv",
   "language": "python",
   "name": "python3"
  },
  "language_info": {
   "codemirror_mode": {
    "name": "ipython",
    "version": 3
   },
   "file_extension": ".py",
   "mimetype": "text/x-python",
   "name": "python",
   "nbconvert_exporter": "python",
   "pygments_lexer": "ipython3",
   "version": "3.9.6"
  }
 },
 "nbformat": 4,
 "nbformat_minor": 5
}
