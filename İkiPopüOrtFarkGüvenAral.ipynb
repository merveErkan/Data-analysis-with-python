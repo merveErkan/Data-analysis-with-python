{
 "cells": [
  {
   "cell_type": "code",
   "execution_count": null,
   "id": "11072618",
   "metadata": {},
   "outputs": [],
   "source": [
    "import numpy as np\n",
    "from scipy import stats"
   ]
  },
  {
   "cell_type": "code",
   "execution_count": 2,
   "id": "fdb2f648",
   "metadata": {},
   "outputs": [],
   "source": [
    "na = 28\n",
    "nb = 30\n",
    "vara = 164\n",
    "varb = 216\n",
    "orta = 32\n",
    "ortb = 26\n",
    "confidence = 0.95"
   ]
  },
  {
   "cell_type": "code",
   "execution_count": 5,
   "id": "f3f8c78a",
   "metadata": {},
   "outputs": [
    {
     "name": "stdout",
     "output_type": "stream",
     "text": [
      "(np.float64(-1.0822649344425628), np.float64(13.082264934442563))\n"
     ]
    }
   ],
   "source": [
    "range = stats.norm.interval(confidence=confidence, loc=(orta - ortb), scale=np.sqrt((vara / na) + (varb / nb)))\n",
    "print(range)"
   ]
  },
  {
   "cell_type": "code",
   "execution_count": 8,
   "id": "645f571a",
   "metadata": {},
   "outputs": [],
   "source": [
    "na = 8\n",
    "nb = 10\n",
    "orta = 3\n",
    "ortb = 2.7\n",
    "birvar = 0.05\n",
    "confidence = 0.95\n",
    "n3 = (1/na) + (1/nb)"
   ]
  },
  {
   "cell_type": "code",
   "execution_count": 13,
   "id": "ad6ac84b",
   "metadata": {},
   "outputs": [
    {
     "name": "stdout",
     "output_type": "stream",
     "text": [
      "(np.float64(0.07515008811712867), np.float64(0.524849911882871))\n"
     ]
    }
   ],
   "source": [
    "range = stats.t.interval(confidence=confidence, loc=(orta - ortb), scale=np.sqrt((n3*birvar)), df=(na + nb - 2))\n",
    "print(range)"
   ]
  }
 ],
 "metadata": {
  "kernelspec": {
   "display_name": ".venv",
   "language": "python",
   "name": "python3"
  },
  "language_info": {
   "codemirror_mode": {
    "name": "ipython",
    "version": 3
   },
   "file_extension": ".py",
   "mimetype": "text/x-python",
   "name": "python",
   "nbconvert_exporter": "python",
   "pygments_lexer": "ipython3",
   "version": "3.9.6"
  }
 },
 "nbformat": 4,
 "nbformat_minor": 5
}
