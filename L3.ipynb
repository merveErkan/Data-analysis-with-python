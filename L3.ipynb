{
 "cells": [
  {
   "cell_type": "code",
   "execution_count": null,
   "id": "a620f269",
   "metadata": {},
   "outputs": [],
   "source": [
    "import seaborn as sns\n",
    "import matplotlib.pyplot as plt\n",
    "import numpy as np\n",
    "from scipy import stats"
   ]
  },
  {
   "cell_type": "markdown",
   "id": "41f68209",
   "metadata": {},
   "source": [
    " her seferinde yeni bir veri kümesi oluşturuyor şaun.\n",
    " Sabit bir veri kümesi yaratması için seed diye bir fonksiyon yapısı kullanılır."
   ]
  },
  {
   "cell_type": "code",
   "execution_count": null,
   "id": "385c37f6",
   "metadata": {},
   "outputs": [],
   "source": [
    "np.random.seed(0)\n",
    "data = np.random.normal(size=(35,2,40000)) \n",
    "print(data) "
   ]
  },
  {
   "cell_type": "markdown",
   "id": "e03a0900",
   "metadata": {},
   "source": [
    "flatten eklememin sebebi veri 3 boyutlu fakat displot 2 boyulu bu sayede veriyi düzeleştirme uygulayabiliriz"
   ]
  },
  {
   "cell_type": "markdown",
   "id": "00feee8b",
   "metadata": {},
   "source": [
    "datas = (data - np.mean(data))/np.std(data)\n",
    "bunun yerine stats kütüphanesi kullanarak kısaca zscore hesaplaması yapılabilri ve aynı tablo oluşturulur yine"
   ]
  },
  {
   "cell_type": "code",
   "execution_count": null,
   "id": "277a3b51",
   "metadata": {},
   "outputs": [],
   "source": [
    "datas = stats.zscore(data)"
   ]
  },
  {
   "cell_type": "code",
   "execution_count": null,
   "id": "dbcd7819",
   "metadata": {},
   "outputs": [],
   "source": [
    "sns.displot(datas.flatten(), kde=True)\n",
    "plt. title(\"Data Scatter Plot\", fontsize=15, \n",
    "loc = \"center\", c = \"red\")\n",
    "plt.xlabel(\"Dataset\", fontsize=15, c = \"red\")\n",
    "plt.ylabel(\"Frequency\", fontsize=15, c = \"red\")\n",
    "plt.xlim(-3,3)\n",
    "plt.axvline(x = np.mean(datas), c = \"red\", linestyle=\"--\", linewidth=2,label=\"Mean\")\n",
    "plt.axvline(x = np.mean(datas) - np.std(datas), c = \"orange\", linestyle=\"--\", linewidth=2,label=\" 1 Std\")\n",
    "plt.axvline(x = np.mean(datas) + np.std(datas), c = \"orange\", linestyle=\"--\", linewidth=2,)\n",
    "plt.legend()\n",
    "plt.axvline(x = np.mean(datas) - 2*np.std(datas), c = \"blue\", linestyle=\"--\", linewidth=2,label=\" 2 Std\")\n",
    "plt.axvline(x = np.mean(datas) + 2*np.std(datas), c = \"blue\", linestyle=\"--\", linewidth=2)\n",
    "plt.legend()\n",
    "plt.show()"
   ]
  }
 ],
 "metadata": {
  "kernelspec": {
   "display_name": ".venv",
   "language": "python",
   "name": "python3"
  },
  "language_info": {
   "codemirror_mode": {
    "name": "ipython",
    "version": 3
   },
   "file_extension": ".py",
   "mimetype": "text/x-python",
   "name": "python",
   "nbconvert_exporter": "python",
   "pygments_lexer": "ipython3",
   "version": "3.9.6"
  }
 },
 "nbformat": 4,
 "nbformat_minor": 5
}
