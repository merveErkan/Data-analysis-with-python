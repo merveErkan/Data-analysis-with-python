{
 "cells": [
  {
   "cell_type": "code",
   "execution_count": null,
   "id": "ee3d910f",
   "metadata": {},
   "outputs": [],
   "source": [
    "import numpy as np\n",
    "from scipy import stats"
   ]
  },
  {
   "cell_type": "code",
   "execution_count": null,
   "id": "b2265ab8",
   "metadata": {},
   "outputs": [],
   "source": [
    "n = 30\n",
    "xOrt = 140\n",
    "xStandart = 25\n",
    "confidence = 0.95\n",
    "sderecesi = n-1"
   ]
  },
  {
   "cell_type": "code",
   "execution_count": null,
   "id": "26dfd42c",
   "metadata": {},
   "outputs": [],
   "source": [
    "range = stats.t.interval(confidence=confidence, df=sderecesi, loc=xOrt, scale=xStandart/np.sqrt(n))\n",
    "print(range)"
   ]
  },
  {
   "cell_type": "code",
   "execution_count": null,
   "id": "87d54a9a",
   "metadata": {},
   "outputs": [],
   "source": [
    "n = 20\n",
    "xOrt = 216.53\n",
    "xStandart = 15.86\n",
    "confidence = 0.95\n",
    "sderecesi = n-1"
   ]
  },
  {
   "cell_type": "code",
   "execution_count": null,
   "id": "60472d19",
   "metadata": {},
   "outputs": [],
   "source": [
    "range = stats.t.interval(confidence=confidence, df=sderecesi, loc=xOrt, scale=xStandart/np.sqrt(n))\n",
    "print(range)"
   ]
  }
 ],
 "metadata": {
  "kernelspec": {
   "display_name": ".venv",
   "language": "python",
   "name": "python3"
  },
  "language_info": {
   "codemirror_mode": {
    "name": "ipython",
    "version": 3
   },
   "file_extension": ".py",
   "mimetype": "text/x-python",
   "name": "python",
   "nbconvert_exporter": "python",
   "pygments_lexer": "ipython3",
   "version": "3.9.6"
  }
 },
 "nbformat": 4,
 "nbformat_minor": 5
}
