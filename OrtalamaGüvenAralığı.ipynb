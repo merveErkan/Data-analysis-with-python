{
 "cells": [
  {
   "cell_type": "code",
   "execution_count": null,
   "id": "d39c5652",
   "metadata": {},
   "outputs": [],
   "source": [
    "import numpy as np\n",
    "from scipy import stats"
   ]
  },
  {
   "cell_type": "code",
   "execution_count": null,
   "id": "da662d53",
   "metadata": {},
   "outputs": [],
   "source": [
    "n = 100\n",
    "xOrt = 1040\n",
    "xStandart  = 25\n",
    "confidence = 0.95"
   ]
  },
  {
   "cell_type": "code",
   "execution_count": null,
   "id": "031d54d9",
   "metadata": {},
   "outputs": [],
   "source": [
    "range = stats.norm.interval(confidence=confidence, loc=xOrt, scale=xStandart/np.sqrt(n))\n",
    "print(range)"
   ]
  },
  {
   "cell_type": "code",
   "execution_count": null,
   "id": "77780dc9",
   "metadata": {},
   "outputs": [],
   "source": [
    "n = 85\n",
    "xOrt = 67\n",
    "xStandart = 14\n",
    "confidence = 0.95"
   ]
  },
  {
   "cell_type": "code",
   "execution_count": null,
   "id": "5ce9c3b0",
   "metadata": {},
   "outputs": [],
   "source": [
    "range = stats.norm.interval(confidence=confidence, loc=xOrt, scale=xStandart/np.sqrt(n))\n",
    "print(range)"
   ]
  },
  {
   "cell_type": "code",
   "execution_count": null,
   "id": "57fdc3f7",
   "metadata": {},
   "outputs": [],
   "source": [
    "n = 16\n",
    "xOrt = 4\n",
    "xStandart = 2\n",
    "confidence = 0.95"
   ]
  },
  {
   "cell_type": "code",
   "execution_count": null,
   "id": "2d3e74cb",
   "metadata": {},
   "outputs": [],
   "source": [
    "range = stats.norm.interval(confidence=confidence, loc=xOrt, scale=xStandart/np.sqrt(n))\n",
    "print(range)"
   ]
  },
  {
   "cell_type": "code",
   "execution_count": null,
   "id": "f530a8c8",
   "metadata": {},
   "outputs": [],
   "source": [
    "n  =25\n",
    "xOrt = 120\n",
    "xStandart = 10\n",
    "confidence = 0.90"
   ]
  },
  {
   "cell_type": "code",
   "execution_count": null,
   "id": "b1fe4122",
   "metadata": {},
   "outputs": [],
   "source": [
    "range = stats.norm.interval(confidence=confidence, loc=xOrt, scale=xStandart/np.sqrt(n))\n",
    "print(range)"
   ]
  },
  {
   "cell_type": "code",
   "execution_count": null,
   "id": "09e7f150",
   "metadata": {},
   "outputs": [],
   "source": [
    "n  =25\n",
    "xOrt = 120\n",
    "xStandart = 10\n",
    "confidence = 0.99"
   ]
  },
  {
   "cell_type": "code",
   "execution_count": null,
   "id": "644ae3d6",
   "metadata": {},
   "outputs": [],
   "source": [
    "range = stats.norm.interval(confidence=confidence, loc=xOrt, scale=xStandart/np.sqrt(n))\n",
    "print(range)"
   ]
  },
  {
   "cell_type": "markdown",
   "id": "0454e0d8",
   "metadata": {},
   "source": [
    "güven (confidence) yükseldikçe aralık açıklığıda artıyor"
   ]
  },
  {
   "cell_type": "code",
   "execution_count": null,
   "id": "2796cad2",
   "metadata": {},
   "outputs": [],
   "source": [
    "n = 100\n",
    "xOrt = 385\n",
    "xStandart = 12\n",
    "confidence = 0.95"
   ]
  },
  {
   "cell_type": "code",
   "execution_count": null,
   "id": "9452d282",
   "metadata": {},
   "outputs": [],
   "source": [
    "range = stats.norm.interval(confidence=confidence, loc=xOrt, scale=xStandart/np.sqrt(n))\n",
    "print(range)"
   ]
  }
 ],
 "metadata": {
  "kernelspec": {
   "display_name": ".venv",
   "language": "python",
   "name": "python3"
  },
  "language_info": {
   "codemirror_mode": {
    "name": "ipython",
    "version": 3
   },
   "file_extension": ".py",
   "mimetype": "text/x-python",
   "name": "python",
   "nbconvert_exporter": "python",
   "pygments_lexer": "ipython3",
   "version": "3.9.6"
  }
 },
 "nbformat": 4,
 "nbformat_minor": 5
}
