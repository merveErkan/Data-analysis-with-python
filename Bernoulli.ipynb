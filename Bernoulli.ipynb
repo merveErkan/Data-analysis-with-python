{
 "cells": [
  {
   "cell_type": "code",
   "execution_count": 1,
   "id": "2108313c",
   "metadata": {},
   "outputs": [],
   "source": [
    "from scipy import stats"
   ]
  },
  {
   "cell_type": "code",
   "execution_count": 2,
   "id": "bce264e6",
   "metadata": {},
   "outputs": [],
   "source": [
    "p = 0.5\n",
    "dağılım  = stats.bernoulli(p)"
   ]
  },
  {
   "cell_type": "code",
   "execution_count": 3,
   "id": "7dcbccc7",
   "metadata": {},
   "outputs": [
    {
     "name": "stdout",
     "output_type": "stream",
     "text": [
      "yazı gelme olasılığı 0.5 iken tura gelme olasılığı 0.4999999999999999dır.\n"
     ]
    }
   ],
   "source": [
    "tOlasılık = dağılım.pmf(k = 0)\n",
    "yOlasılık = dağılım.pmf(k = 1)\n",
    "print(\"yazı gelme olasılığı {} iken tura gelme olasılığı {}dır.\".format(yOlasılık, tOlasılık))"
   ]
  },
  {
   "cell_type": "code",
   "execution_count": 4,
   "id": "64b90398",
   "metadata": {},
   "outputs": [
    {
     "name": "stdout",
     "output_type": "stream",
     "text": [
      "0.5\n"
     ]
    }
   ],
   "source": [
    "print(dağılım.expect())"
   ]
  },
  {
   "cell_type": "code",
   "execution_count": 5,
   "id": "47bd53d8",
   "metadata": {},
   "outputs": [
    {
     "name": "stdout",
     "output_type": "stream",
     "text": [
      "0.25\n"
     ]
    }
   ],
   "source": [
    "print(dağılım.var())"
   ]
  },
  {
   "cell_type": "code",
   "execution_count": 6,
   "id": "96e6f251",
   "metadata": {},
   "outputs": [],
   "source": [
    "p = 4/52"
   ]
  },
  {
   "cell_type": "code",
   "execution_count": 8,
   "id": "f26d9561",
   "metadata": {},
   "outputs": [
    {
     "name": "stdout",
     "output_type": "stream",
     "text": [
      "Papaz gelme olasılığı 0.07692307692307693 iken papaz gelmeme olasılığı 0.9230769230769229dır.\n"
     ]
    }
   ],
   "source": [
    "dağılım = stats.bernoulli(p)\n",
    "papazgelmeme = dağılım.pmf(k = 0)\n",
    "papazgelme = dağılım.pmf(k = 1)\n",
    "print(\"Papaz gelme olasılığı {} iken papaz gelmeme olasılığı {}dır.\".format(papazgelme, papazgelmeme))"
   ]
  },
  {
   "cell_type": "code",
   "execution_count": 9,
   "id": "5e81f75c",
   "metadata": {},
   "outputs": [
    {
     "name": "stdout",
     "output_type": "stream",
     "text": [
      "0.07692307692307693\n"
     ]
    }
   ],
   "source": [
    "print(dağılım.expect())"
   ]
  },
  {
   "cell_type": "code",
   "execution_count": 10,
   "id": "71969d8b",
   "metadata": {},
   "outputs": [
    {
     "name": "stdout",
     "output_type": "stream",
     "text": [
      "0.07100591715976332\n"
     ]
    }
   ],
   "source": [
    "print(dağılım.var())"
   ]
  },
  {
   "cell_type": "code",
   "execution_count": null,
   "id": "97c99929",
   "metadata": {},
   "outputs": [],
   "source": []
  }
 ],
 "metadata": {
  "kernelspec": {
   "display_name": ".venv",
   "language": "python",
   "name": "python3"
  },
  "language_info": {
   "codemirror_mode": {
    "name": "ipython",
    "version": 3
   },
   "file_extension": ".py",
   "mimetype": "text/x-python",
   "name": "python",
   "nbconvert_exporter": "python",
   "pygments_lexer": "ipython3",
   "version": "3.9.6"
  }
 },
 "nbformat": 4,
 "nbformat_minor": 5
}
