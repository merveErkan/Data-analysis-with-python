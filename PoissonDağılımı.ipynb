{
 "cells": [
  {
   "cell_type": "code",
   "execution_count": 1,
   "id": "beef0405",
   "metadata": {},
   "outputs": [],
   "source": [
    "from scipy import stats"
   ]
  },
  {
   "cell_type": "code",
   "execution_count": 2,
   "id": "0df863d4",
   "metadata": {},
   "outputs": [
    {
     "name": "stdout",
     "output_type": "stream",
     "text": [
      "4.5399929762484854e-05\n"
     ]
    }
   ],
   "source": [
    "mean  = 10\n",
    "dagılım = stats.poisson(mean)\n",
    "p0 = dagılım.pmf(k = 0)\n",
    "print(p0)"
   ]
  },
  {
   "cell_type": "markdown",
   "id": "83e26036",
   "metadata": {},
   "source": [
    "en fazla 3 deprem olması olasılığını hesaplarken kümilatif kullanılır."
   ]
  },
  {
   "cell_type": "code",
   "execution_count": 5,
   "id": "6d302f06",
   "metadata": {},
   "outputs": [
    {
     "name": "stdout",
     "output_type": "stream",
     "text": [
      "0.8487961172233521\n"
     ]
    }
   ],
   "source": [
    "mean = 6\n",
    "dagılım = stats.poisson(mean)\n",
    "p0 = dagılım.cdf(x = 3)\n",
    "print(1- p0)"
   ]
  },
  {
   "cell_type": "code",
   "execution_count": null,
   "id": "2c522c6d",
   "metadata": {},
   "outputs": [],
   "source": []
  },
  {
   "cell_type": "code",
   "execution_count": null,
   "id": "8c77c60e",
   "metadata": {},
   "outputs": [],
   "source": []
  },
  {
   "cell_type": "code",
   "execution_count": null,
   "id": "e3d71dc7",
   "metadata": {},
   "outputs": [],
   "source": []
  },
  {
   "cell_type": "code",
   "execution_count": null,
   "id": "eeb0fcbf",
   "metadata": {},
   "outputs": [],
   "source": []
  },
  {
   "cell_type": "code",
   "execution_count": null,
   "id": "ce4e6367",
   "metadata": {},
   "outputs": [],
   "source": []
  }
 ],
 "metadata": {
  "kernelspec": {
   "display_name": ".venv",
   "language": "python",
   "name": "python3"
  },
  "language_info": {
   "codemirror_mode": {
    "name": "ipython",
    "version": 3
   },
   "file_extension": ".py",
   "mimetype": "text/x-python",
   "name": "python",
   "nbconvert_exporter": "python",
   "pygments_lexer": "ipython3",
   "version": "3.9.6"
  }
 },
 "nbformat": 4,
 "nbformat_minor": 5
}
