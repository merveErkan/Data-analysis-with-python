{
 "cells": [
  {
   "cell_type": "code",
   "execution_count": null,
   "id": "53852b95",
   "metadata": {},
   "outputs": [],
   "source": [
    "import matplotlib.pyplot as plt\n",
    "import numpy as np\n",
    "import seaborn as sns"
   ]
  },
  {
   "cell_type": "code",
   "execution_count": null,
   "id": "8576689d",
   "metadata": {},
   "outputs": [],
   "source": [
    "x = np.random.normal(35,1,1000)"
   ]
  },
  {
   "cell_type": "code",
   "execution_count": null,
   "id": "4bef56a3",
   "metadata": {},
   "outputs": [],
   "source": [
    "plt.hist(x,bins=30)\n",
    "plt.show()"
   ]
  },
  {
   "cell_type": "markdown",
   "id": "68119055",
   "metadata": {},
   "source": [
    "seaborn küütphanesinde nasıl olduğuna bakalım"
   ]
  },
  {
   "cell_type": "code",
   "execution_count": null,
   "id": "9303e5af",
   "metadata": {},
   "outputs": [],
   "source": [
    "sns.histplot(x)\n",
    "plt.show()"
   ]
  },
  {
   "cell_type": "code",
   "execution_count": null,
   "id": "e0063f66",
   "metadata": {},
   "outputs": [],
   "source": [
    "sns.displot(x)\n",
    "plt.show()"
   ]
  },
  {
   "cell_type": "markdown",
   "id": "4d502827",
   "metadata": {},
   "source": [
    "kde =  True dersek dağılım grafiğide görünür"
   ]
  },
  {
   "cell_type": "code",
   "execution_count": null,
   "id": "0578acc7",
   "metadata": {},
   "outputs": [],
   "source": [
    "sns.histplot(x,kde=True)\n",
    "plt.show()"
   ]
  }
 ],
 "metadata": {
  "kernelspec": {
   "display_name": ".venv",
   "language": "python",
   "name": "python3"
  },
  "language_info": {
   "codemirror_mode": {
    "name": "ipython",
    "version": 3
   },
   "file_extension": ".py",
   "mimetype": "text/x-python",
   "name": "python",
   "nbconvert_exporter": "python",
   "pygments_lexer": "ipython3",
   "version": "3.9.6"
  }
 },
 "nbformat": 4,
 "nbformat_minor": 5
}
