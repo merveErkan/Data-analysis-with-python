{
 "cells": [
  {
   "cell_type": "code",
   "execution_count": null,
   "id": "9a164c7a",
   "metadata": {},
   "outputs": [],
   "source": [
    "from scipy.stats import norm"
   ]
  },
  {
   "cell_type": "code",
   "execution_count": null,
   "id": "ec1e08b8",
   "metadata": {},
   "outputs": [],
   "source": [
    "probability = norm(loc = 5.3, scale = 1).cdf(4.5)\n",
    "print(probability)"
   ]
  },
  {
   "cell_type": "code",
   "execution_count": null,
   "id": "de2c92a7",
   "metadata": {},
   "outputs": [],
   "source": [
    "probability = 1- norm(loc = 5.3, scale = 1).cdf(4.5)\n",
    "print(probability)"
   ]
  },
  {
   "cell_type": "code",
   "execution_count": null,
   "id": "0aba7148",
   "metadata": {},
   "outputs": [],
   "source": [
    "upperLimit = norm(loc = 5.3,scale = 1).cdf(6.5)\n",
    "lowerLimit = norm(loc = 5.3, scale = 1).cdf(4.5)\n",
    "probability = upperLimit - lowerLimit\n",
    "print(probability)"
   ]
  }
 ],
 "metadata": {
  "kernelspec": {
   "display_name": ".venv",
   "language": "python",
   "name": "python3"
  },
  "language_info": {
   "codemirror_mode": {
    "name": "ipython",
    "version": 3
   },
   "file_extension": ".py",
   "mimetype": "text/x-python",
   "name": "python",
   "nbconvert_exporter": "python",
   "pygments_lexer": "ipython3",
   "version": "3.9.6"
  }
 },
 "nbformat": 4,
 "nbformat_minor": 5
}
